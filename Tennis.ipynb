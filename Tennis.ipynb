{
 "cells": [
  {
   "cell_type": "markdown",
   "metadata": {},
   "source": [
    "# Collaboration and Competition\n",
    "\n",
    "---\n",
    "\n",
    "In this notebook, you will learn how to use the Unity ML-Agents environment for the third project of the [Deep Reinforcement Learning Nanodegree](https://www.udacity.com/course/deep-reinforcement-learning-nanodegree--nd893) program.\n",
    "\n",
    "### 1. Start the Environment\n",
    "\n",
    "We begin by importing the necessary packages.  If the code cell below returns an error, please revisit the project instructions to double-check that you have installed [Unity ML-Agents](https://github.com/Unity-Technologies/ml-agents/blob/master/docs/Installation.md) and [NumPy](http://www.numpy.org/)."
   ]
  },
  {
   "cell_type": "code",
   "execution_count": 1,
   "metadata": {},
   "outputs": [],
   "source": [
    "from unityagents import UnityEnvironment\n",
    "import numpy as np\n",
    "import torch\n",
    "from collections import deque \n",
    "\n",
    "from agent import Agent"
   ]
  },
  {
   "cell_type": "markdown",
   "metadata": {},
   "source": [
    "Next, we will start the environment!  **_Before running the code cell below_**, change the `file_name` parameter to match the location of the Unity environment that you downloaded.\n",
    "\n",
    "- **Mac**: `\"path/to/Tennis.app\"`\n",
    "- **Windows** (x86): `\"path/to/Tennis_Windows_x86/Tennis.exe\"`\n",
    "- **Windows** (x86_64): `\"path/to/Tennis_Windows_x86_64/Tennis.exe\"`\n",
    "- **Linux** (x86): `\"path/to/Tennis_Linux/Tennis.x86\"`\n",
    "- **Linux** (x86_64): `\"path/to/Tennis_Linux/Tennis.x86_64\"`\n",
    "- **Linux** (x86, headless): `\"path/to/Tennis_Linux_NoVis/Tennis.x86\"`\n",
    "- **Linux** (x86_64, headless): `\"path/to/Tennis_Linux_NoVis/Tennis.x86_64\"`\n",
    "\n",
    "For instance, if you are using a Mac, then you downloaded `Tennis.app`.  If this file is in the same folder as the notebook, then the line below should appear as follows:\n",
    "```\n",
    "env = UnityEnvironment(file_name=\"Tennis.app\")\n",
    "```"
   ]
  },
  {
   "cell_type": "code",
   "execution_count": 2,
   "metadata": {},
   "outputs": [
    {
     "name": "stderr",
     "output_type": "stream",
     "text": [
      "INFO:unityagents:\n",
      "'Academy' started successfully!\n",
      "Unity Academy name: Academy\n",
      "        Number of Brains: 1\n",
      "        Number of External Brains : 1\n",
      "        Lesson number : 0\n",
      "        Reset Parameters :\n",
      "\t\t\n",
      "Unity brain name: TennisBrain\n",
      "        Number of Visual Observations (per agent): 0\n",
      "        Vector Observation space type: continuous\n",
      "        Vector Observation space size (per agent): 8\n",
      "        Number of stacked Vector Observation: 3\n",
      "        Vector Action space type: continuous\n",
      "        Vector Action space size (per agent): 2\n",
      "        Vector Action descriptions: , \n"
     ]
    }
   ],
   "source": [
    "env = UnityEnvironment(file_name=\"Tennis_Windows_x86_64/Tennis.exe\")"
   ]
  },
  {
   "cell_type": "markdown",
   "metadata": {},
   "source": [
    "Environments contain **_brains_** which are responsible for deciding the actions of their associated agents. Here we check for the first brain available, and set it as the default brain we will be controlling from Python."
   ]
  },
  {
   "cell_type": "code",
   "execution_count": 3,
   "metadata": {},
   "outputs": [],
   "source": [
    "# get the default brain\n",
    "brain_name = env.brain_names[0]\n",
    "brain = env.brains[brain_name]"
   ]
  },
  {
   "cell_type": "markdown",
   "metadata": {},
   "source": [
    "### 2. Examine the State and Action Spaces\n",
    "\n",
    "In this environment, two agents control rackets to bounce a ball over a net. If an agent hits the ball over the net, it receives a reward of +0.1.  If an agent lets a ball hit the ground or hits the ball out of bounds, it receives a reward of -0.01.  Thus, the goal of each agent is to keep the ball in play.\n",
    "\n",
    "The observation space consists of 8 variables corresponding to the position and velocity of the ball and racket. Two continuous actions are available, corresponding to movement toward (or away from) the net, and jumping. \n",
    "\n",
    "Run the code cell below to print some information about the environment."
   ]
  },
  {
   "cell_type": "code",
   "execution_count": 4,
   "metadata": {},
   "outputs": [
    {
     "name": "stdout",
     "output_type": "stream",
     "text": [
      "Number of agents: 2\n",
      "Size of each action: 2\n",
      "There are 2 agents. Each observes a state with length: 24\n",
      "The state for the first agent looks like: [ 0.          0.          0.          0.          0.          0.\n",
      "  0.          0.          0.          0.          0.          0.\n",
      "  0.          0.          0.          0.         -6.65278625 -1.5\n",
      " -0.          0.          6.83172083  6.         -0.          0.        ]\n"
     ]
    }
   ],
   "source": [
    "# reset the environment\n",
    "env_info = env.reset(train_mode=True)[brain_name]\n",
    "\n",
    "# number of agents \n",
    "num_agents = len(env_info.agents)\n",
    "print('Number of agents:', num_agents)\n",
    "\n",
    "# size of each action\n",
    "action_size = brain.vector_action_space_size\n",
    "print('Size of each action:', action_size)\n",
    "\n",
    "# examine the state space \n",
    "states = env_info.vector_observations\n",
    "state_size = states.shape[1]\n",
    "print('There are {} agents. Each observes a state with length: {}'.format(states.shape[0], state_size))\n",
    "print('The state for the first agent looks like:', states[0])"
   ]
  },
  {
   "cell_type": "code",
   "execution_count": 5,
   "metadata": {},
   "outputs": [],
   "source": [
    "agent = Agent(state_size=state_size, action_size=action_size, random_seed=42)"
   ]
  },
  {
   "cell_type": "code",
   "execution_count": 6,
   "metadata": {},
   "outputs": [
    {
     "name": "stdout",
     "output_type": "stream",
     "text": [
      "Episode 100\tAverage Score: 0.02rage maximum score over the last 10 episodes: 0.00\n",
      "Episode 200\tAverage Score: 0.00rage maximum score over the last 10 episodes: 0.00\n",
      "Episode 300\tAverage Score: 0.00rage maximum score over the last 10 episodes: 0.00\n",
      "Episode 400\tAverage Score: 0.00rage maximum score over the last 10 episodes: 0.00\n",
      "Episode 500\tAverage Score: 0.00rage maximum score over the last 10 episodes: 0.01\n",
      "Episode 600\tAverage Score: 0.00rage maximum score over the last 10 episodes: 0.01\n",
      "Episode 700\tAverage Score: 0.00rage maximum score over the last 10 episodes: 0.00\n",
      "Episode 800\tAverage Score: 0.00rage maximum score over the last 10 episodes: 0.00\n",
      "Episode 900\tAverage Score: 0.00rage maximum score over the last 10 episodes: 0.00\n",
      "Episode 1000\tAverage Score: 0.00rage maximum score over the last 10 episodes: 0.00\n",
      "Episode 1100\tAverage Score: 0.00rage maximum score over the last 10 episodes: 0.00\n",
      "Episode 1200\tAverage Score: 0.00rage maximum score over the last 10 episodes: 0.00\n",
      "Episode 1300\tAverage Score: 0.00rage maximum score over the last 10 episodes: 0.00\n",
      "Episode 1400\tAverage Score: 0.00rage maximum score over the last 10 episodes: 0.00\n",
      "Episode 1500\tAverage Score: 0.00rage maximum score over the last 10 episodes: 0.00\n",
      "Episode 1600\tAverage Score: 0.00rage maximum score over the last 10 episodes: 0.00\n",
      "Episode 1700\tAverage Score: 0.00rage maximum score over the last 10 episodes: 0.00\n",
      "Episode 1800\tAverage Score: 0.00rage maximum score over the last 10 episodes: 0.00\n",
      "Episode 1900\tAverage Score: 0.00rage maximum score over the last 10 episodes: 0.00\n",
      "Episode 2000\tAverage Score: 0.00rage maximum score over the last 10 episodes: 0.00\n",
      "Episode 2100\tAverage Score: 0.00rage maximum score over the last 10 episodes: 0.00\n",
      "Episode 2200\tAverage Score: 0.03rage maximum score over the last 10 episodes: 0.05\n",
      "Episode 2300\tAverage Score: 0.01rage maximum score over the last 10 episodes: 0.03\n",
      "Episode 2400\tAverage Score: 0.01rage maximum score over the last 10 episodes: 0.00\n",
      "Episode 2500\tAverage Score: 0.06rage maximum score over the last 10 episodes: 0.13\n",
      "Episode 2600\tAverage Score: 0.07rage maximum score over the last 10 episodes: 0.01\n",
      "Episode 2700\tAverage Score: 0.09rage maximum score over the last 10 episodes: 0.08\n",
      "Episode 2800\tAverage Score: 0.22rage maximum score over the last 10 episodes: 0.10\n",
      "Episode 2866\tmax score: 2.60\taverage maximum score over the last 10 episodes: 1.46\n",
      "Environment solved in 2766 episodes!\tAverage Score: 0.51\n"
     ]
    }
   ],
   "source": [
    "def maddpg(n_episodes=10000, max_t=10000, print_every=100):\n",
    "    scores_deque = deque(maxlen=print_every)\n",
    "    scores = []\n",
    "    beta = 1.0  # factor the random noise gets multiplied with\n",
    "    for i_episode in range(1, n_episodes+1):\n",
    "        env_info = env.reset(train_mode=True)[brain_name]\n",
    "        states = env_info.vector_observations  # get the current states\n",
    "        e_scores = np.zeros(2)  # the scores of an episode for both tennis agents\n",
    "        agent.reset()\n",
    "        for t in range(max_t):\n",
    "            if i_episode < 100:\n",
    "                actions = np.random.randn(2, 2)  # use random actions for the first 100 episodes\n",
    "            else:\n",
    "                actions = agent.act(states)  # let the agent select actions\n",
    "            actions_p2 = np.flip(actions, 0)                    # The actions of the other player\n",
    "            env_info = env.step(actions)[brain_name]            # execute the selected actions and save the new information about the environment\n",
    "            rewards = env_info.rewards                          # get the rewards\n",
    "            next_states = env_info.vector_observations          # get the resulting states\n",
    "            next_states_p2 = np.flip(next_states, 0)            # get the resulting states for the other player\n",
    "            dones = env_info.local_done                         # check whether episodes have finished\n",
    "            agent.step(states, actions, actions_p2, rewards, next_states, next_states_p2, dones)  # pass the information to the agent\n",
    "            states = next_states\n",
    "            e_scores += rewards\n",
    "            if np.any(dones):\n",
    "                break\n",
    "        max_score = np.max(e_scores)  # the max score of the agents\n",
    "        scores_deque.append(max_score)\n",
    "        scores.append(max_score)\n",
    "        beta = max(0.999 * beta, 0.01)  # reduce the noise a bit while training\n",
    "        print('\\rEpisode {:d}\\tmax score: {:.2f}\\taverage maximum score over the last 10 episodes: {:.2f}'.format(i_episode, scores_deque[-1], np.mean(list(scores_deque)[-10:])), end=\"\")\n",
    "\n",
    "        if i_episode > 100 and np.mean(scores_deque) > 0.5:\n",
    "            torch.save(agent.actor_local.state_dict(), 'checkpoint_actor.pth')\n",
    "            torch.save(agent.critic_local.state_dict(), 'checkpoint_critic.pth')\n",
    "            print('\\nEnvironment solved in {:d} episodes!\\tAverage Score: {:.2f}'.format(i_episode-100, np.mean(scores_deque)))\n",
    "            break\n",
    "        if i_episode % print_every == 0:\n",
    "            print('\\rEpisode {}\\tAverage Score: {:.2f}'.format(i_episode, np.mean(scores_deque)))\n",
    "            \n",
    "    return scores\n",
    "\n",
    "scores = maddpg()\n",
    "env.close()  # close the environment as it is no longer needed"
   ]
  },
  {
   "cell_type": "code",
   "execution_count": 8,
   "metadata": {},
   "outputs": [
    {
     "data": {
      "image/png": "[encoded data removed]",
      "text/plain": [
       "<Figure size 432x288 with 1 Axes>"
      ]
     },
     "metadata": {
      "needs_background": "light"
     },
     "output_type": "display_data"
    }
   ],
   "source": [
    "import matplotlib.pyplot as plt\n",
    "fig = plt.figure()\n",
    "ax = fig.add_subplot(111)\n",
    "plt.plot(np.arange(1, len(scores)+1), scores)\n",
    "plt.ylabel('Score')\n",
    "plt.xlabel('Episode #')\n",
    "plt.show()"
   ]
  },
  {
   "cell_type": "code",
   "execution_count": null,
   "metadata": {},
   "outputs": [],
   "source": []
  }
 ],
 "metadata": {
  "kernelspec": {
   "display_name": "Python 3",
   "language": "python",
   "name": "python3"
  },
  "language_info": {
   "codemirror_mode": {
    "name": "ipython",
    "version": 3
   },
   "file_extension": ".py",
   "mimetype": "text/x-python",
   "name": "python",
   "nbconvert_exporter": "python",
   "pygments_lexer": "ipython3",
   "version": "3.6.12"
  }
 },
 "nbformat": 4,
 "nbformat_minor": 4
}
